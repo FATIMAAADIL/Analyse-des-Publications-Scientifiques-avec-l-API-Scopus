{
 "cells": [
  {
   "cell_type": "markdown",
   "id": "94587bd6",
   "metadata": {},
   "source": [
    "# Projet de fin de module Master\n",
    "Analyse des Publications Scientifiques avec l'API Scopus"
   ]
  },
  {
   "cell_type": "markdown",
   "id": "5ddf7334",
   "metadata": {},
   "source": [
    "# Réaliser par: \n",
    "              Fatima AADIL\n",
    "              Laila Ettaqy\n",
    "              El Mazouzy Zineb"
   ]
  },
  {
   "cell_type": "markdown",
   "id": "bfe8b869",
   "metadata": {},
   "source": [
    "Objectif:Ce projet vise à récupérer les informations sur les publications scientifiques depuis Scopus via leur API, pour ensuite analyser et visualiser ces données en utilisant les bibliothèques Python NumPy, Pandas et Matplotlib."
   ]
  },
  {
   "cell_type": "markdown",
   "id": "32ea857a",
   "metadata": {},
   "source": [
    "Importation des bibliothèque nécessaires"
   ]
  },
  {
   "cell_type": "code",
   "execution_count": 16,
   "id": "4a7278df",
   "metadata": {},
   "outputs": [],
   "source": [
    "import requests\n",
    "import pandas as pd\n",
    "import matplotlib.pyplot as plt\n",
    "import numpy as np"
   ]
  },
  {
   "cell_type": "markdown",
   "id": "af8e860e",
   "metadata": {},
   "source": [
    "# Récupération des Données de Scopus"
   ]
  },
  {
   "cell_type": "markdown",
   "id": "41abf128",
   "metadata": {},
   "source": [
    "clé API Scopus"
   ]
  },
  {
   "cell_type": "code",
   "execution_count": 17,
   "id": "5a8de7ab",
   "metadata": {},
   "outputs": [],
   "source": [
    "\n",
    "api_key = '3107e4dd0dc06965598eea9d1f9e3a28'"
   ]
  },
  {
   "cell_type": "markdown",
   "id": "ba2a7367",
   "metadata": {},
   "source": [
    " Liste des DOI pour lesquels les informations doivent être récupérées"
   ]
  },
  {
   "cell_type": "code",
   "execution_count": 19,
   "id": "281905bb",
   "metadata": {},
   "outputs": [
    {
     "name": "stdout",
     "output_type": "stream",
     "text": [
      "Les DOI extraits sont :\n",
      "10.1016/j.csa.2024.100057\n",
      "10.1016/j.jes.2024.04.003\n",
      "10.1016/j.jes.2024.03.051\n",
      "10.1016/j.jes.2024.03.037\n",
      "10.37934/araset.46.1.187200\n",
      "10.37934/araset.46.1.7585\n",
      "10.1115/1.4063266\n",
      "10.37934/araset.45.2.214226\n",
      "10.37934/araset.45.2.168176\n",
      "10.37934/araset.45.1.90107\n",
      "10.37934/araset.45.1.4050\n",
      "10.37934/araset.45.1.5159\n",
      "10.37934/araset.44.2.1124\n",
      "10.1115/1.4065077\n",
      "10.1016/j.jes.2024.01.023\n",
      "10.1016/j.jes.2023.08.007\n",
      "10.1016/j.jmst.2024.05.024\n",
      "10.1016/j.jmst.2024.02.094\n",
      "10.37934/araset.44.1.225238\n",
      "10.1115/1.4065095\n",
      "10.1016/j.seppur.2024.128466\n",
      "10.1016/j.jsc.2024.102345\n",
      "10.1016/j.entcom.2024.100787\n",
      "10.1016/j.entcom.2024.100725\n",
      "10.1016/j.entcom.2024.100784\n"
     ]
    }
   ],
   "source": [
    "\n",
    "BASE_URL = 'https://api.elsevier.com/content/search/scopus'\n",
    "\n",
    "def get_dois_from_scopus(query, api_key):\n",
    "    headers = {\n",
    "        'Accept': 'application/json',\n",
    "        'X-ELS-APIKey': api_key\n",
    "    }\n",
    "    params = {\n",
    "        'query': query,\n",
    "        'count': 25\n",
    "    }\n",
    "    \n",
    "    response = requests.get(BASE_URL, headers=headers, params=params)\n",
    "    if response.status_code == 200:\n",
    "        data = response.json()\n",
    "        entries = data.get('search-results', {}).get('entry', [])\n",
    "        dois = [entry['prism:doi'] for entry in entries if 'prism:doi' in entry]\n",
    "        return dois\n",
    "    else:\n",
    "        print(f\"Erreur: {response.status_code}\")\n",
    "        return []\n",
    "\n",
    "\n",
    "query = 'TITLE-ABS-KEY(\"machine learning\")'\n",
    "dois = get_dois_from_scopus(query,api_key)\n",
    "print(\"Les DOI extraits sont :\")\n",
    "for doi in dois:\n",
    "    print(doi)\n"
   ]
  },
  {
   "cell_type": "markdown",
   "id": "506e9c20",
   "metadata": {},
   "source": [
    " Fonction pour récupérer les informations de publication pour un DOI donné"
   ]
  },
  {
   "cell_type": "code",
   "execution_count": 20,
   "id": "f57c5d09",
   "metadata": {},
   "outputs": [],
   "source": [
    "base_url = 'https://doi.org/'\n",
    "def fetch_publication_info(doi, api_key):\n",
    "    url = f'{base_url}{doi}'\n",
    "    headers = {\n",
    "        'Accept': 'application/json',\n",
    "        'X-ELS-APIKey': api_key\n",
    "    }\n",
    "    response = requests.get(url, headers=headers)\n",
    "    if response.status_code == 200:\n",
    "        return response.json()\n",
    "    else:\n",
    "        print(f\"Erreur : {response.status_code} pour le DOI {doi}\")\n",
    "        return None"
   ]
  },
  {
   "cell_type": "markdown",
   "id": "a2c96777",
   "metadata": {},
   "source": [
    "Liste pour stocker les informations de publication"
   ]
  },
  {
   "cell_type": "code",
   "execution_count": 21,
   "id": "2414cfca",
   "metadata": {},
   "outputs": [],
   "source": [
    "\n",
    "publications_info = []"
   ]
  },
  {
   "cell_type": "markdown",
   "id": "d39ae1c6",
   "metadata": {},
   "source": [
    "Récupération des informations pour chaque DOI"
   ]
  },
  {
   "cell_type": "code",
   "execution_count": 22,
   "id": "77f7a55e",
   "metadata": {},
   "outputs": [],
   "source": [
    "\n",
    "for doi in dois:\n",
    "    info = fetch_publication_info(doi, api_key)\n",
    "    if info:\n",
    "        publications_info.append(info)"
   ]
  },
  {
   "cell_type": "markdown",
   "id": "a8762331",
   "metadata": {},
   "source": [
    "Conversion des informations en DataFrame Pandas"
   ]
  },
  {
   "cell_type": "code",
   "execution_count": 23,
   "id": "5352d03d",
   "metadata": {},
   "outputs": [],
   "source": [
    "\n",
    "df = pd.json_normalize(publications_info)"
   ]
  },
  {
   "cell_type": "markdown",
   "id": "7abae9ae",
   "metadata": {},
   "source": [
    "Affichage des premières lignes du DataFrame"
   ]
  },
  {
   "cell_type": "code",
   "execution_count": 24,
   "id": "e7c13cd9",
   "metadata": {},
   "outputs": [
    {
     "name": "stdout",
     "output_type": "stream",
     "text": [
      "   reference-count                 publisher  \\\n",
      "0              106               Elsevier BV   \n",
      "1              167               Elsevier BV   \n",
      "2               57               Elsevier BV   \n",
      "3               80               Elsevier BV   \n",
      "4                0  Akademia Baru Publishing   \n",
      "\n",
      "                                             license  \\\n",
      "0  [{'start': {'date-parts': [[2025, 12, 1]], 'da...   \n",
      "1  [{'start': {'date-parts': [[2025, 5, 1]], 'dat...   \n",
      "2  [{'start': {'date-parts': [[2025, 5, 1]], 'dat...   \n",
      "3  [{'start': {'date-parts': [[2025, 5, 1]], 'dat...   \n",
      "4                                                NaN   \n",
      "\n",
      "                           DOI             type     page  \\\n",
      "0    10.1016/j.csa.2024.100057  journal-article   100057   \n",
      "1    10.1016/j.jes.2024.04.003  journal-article  310-330   \n",
      "2    10.1016/j.jes.2024.03.051  journal-article  211-224   \n",
      "3    10.1016/j.jes.2024.03.037  journal-article  125-139   \n",
      "4  10.37934/araset.46.1.187200  journal-article  187-200   \n",
      "\n",
      "                                  update-policy    source  \\\n",
      "0  http://dx.doi.org/10.1016/elsevier_cm_policy  Crossref   \n",
      "1  http://dx.doi.org/10.1016/elsevier_cm_policy  Crossref   \n",
      "2  http://dx.doi.org/10.1016/elsevier_cm_policy  Crossref   \n",
      "3  http://dx.doi.org/10.1016/elsevier_cm_policy  Crossref   \n",
      "4                                           NaN  Crossref   \n",
      "\n",
      "   is-referenced-by-count                                              title  \\\n",
      "0                       1  Authentication, access control and scalability...   \n",
      "1                       1  Research progress on secondary formation, phot...   \n",
      "2                       0  Development of an automated photolysis rates p...   \n",
      "3                       1  Interpreting hourly mass concentrations of PM2...   \n",
      "4                       0                  Arabic Music Genre Identification   \n",
      "\n",
      "   ... issued.date-parts published.date-parts  \\\n",
      "0  ...      [[2025, 12]]         [[2025, 12]]   \n",
      "1  ...       [[2025, 5]]          [[2025, 5]]   \n",
      "2  ...       [[2025, 5]]          [[2025, 5]]   \n",
      "3  ...       [[2025, 5]]          [[2025, 5]]   \n",
      "4  ...    [[2024, 6, 4]]       [[2024, 6, 4]]   \n",
      "\n",
      "                                              funder issue  \\\n",
      "0                                                NaN   NaN   \n",
      "1  [{'DOI': '10.13039/501100001809', 'name': 'Nat...   NaN   \n",
      "2                                                NaN   NaN   \n",
      "3                                                NaN   NaN   \n",
      "4                                                NaN     1   \n",
      "\n",
      "                                            abstract  \\\n",
      "0                                                NaN   \n",
      "1                                                NaN   \n",
      "2                                                NaN   \n",
      "3                                                NaN   \n",
      "4  <jats:p>Music Information Retrieval (MIR) is o...   \n",
      "\n",
      "  published-online.date-parts journal-issue.issue  \\\n",
      "0                         NaN                 NaN   \n",
      "1                         NaN                 NaN   \n",
      "2                         NaN                 NaN   \n",
      "3                         NaN                 NaN   \n",
      "4              [[2024, 6, 4]]                   1   \n",
      "\n",
      "  journal-issue.published-online.date-parts  \\\n",
      "0                                       NaN   \n",
      "1                                       NaN   \n",
      "2                                       NaN   \n",
      "3                                       NaN   \n",
      "4                            [[2024, 6, 4]]   \n",
      "\n",
      "  journal-issue.published-print.date-parts  special_numbering  \n",
      "0                                      NaN                NaN  \n",
      "1                                      NaN                NaN  \n",
      "2                                      NaN                NaN  \n",
      "3                                      NaN                NaN  \n",
      "4                                      NaN                NaN  \n",
      "\n",
      "[5 rows x 53 columns]\n"
     ]
    }
   ],
   "source": [
    "\n",
    "print(df.head())"
   ]
  },
  {
   "cell_type": "markdown",
   "id": "980d955d",
   "metadata": {},
   "source": [
    "Affichage des colonnes"
   ]
  },
  {
   "cell_type": "code",
   "execution_count": 25,
   "id": "25db5788",
   "metadata": {
    "scrolled": false
   },
   "outputs": [
    {
     "name": "stdout",
     "output_type": "stream",
     "text": [
      "Index(['reference-count', 'publisher', 'license', 'DOI', 'type', 'page',\n",
      "       'update-policy', 'source', 'is-referenced-by-count', 'title', 'prefix',\n",
      "       'volume', 'author', 'member', 'reference', 'container-title',\n",
      "       'original-title', 'language', 'link', 'score', 'subtitle',\n",
      "       'short-title', 'references-count', 'alternative-id', 'URL', 'ISSN',\n",
      "       'subject', 'container-title-short', 'assertion', 'article-number',\n",
      "       'indexed.date-parts', 'indexed.date-time', 'indexed.timestamp',\n",
      "       'content-domain.domain', 'content-domain.crossmark-restriction',\n",
      "       'published-print.date-parts', 'created.date-parts', 'created.date-time',\n",
      "       'created.timestamp', 'deposited.date-parts', 'deposited.date-time',\n",
      "       'deposited.timestamp', 'resource.primary.URL', 'issued.date-parts',\n",
      "       'published.date-parts', 'funder', 'issue', 'abstract',\n",
      "       'published-online.date-parts', 'journal-issue.issue',\n",
      "       'journal-issue.published-online.date-parts',\n",
      "       'journal-issue.published-print.date-parts', 'special_numbering'],\n",
      "      dtype='object')\n"
     ]
    }
   ],
   "source": [
    "print(df.columns)"
   ]
  },
  {
   "cell_type": "markdown",
   "id": "2505d41c",
   "metadata": {},
   "source": [
    "Sauvegarde des données dans un fichier CSV"
   ]
  },
  {
   "cell_type": "code",
   "execution_count": 26,
   "id": "991d08bc",
   "metadata": {},
   "outputs": [],
   "source": [
    "\n",
    "df.to_csv('publications_info.csv', index=False)"
   ]
  },
  {
   "cell_type": "markdown",
   "id": "28632286",
   "metadata": {},
   "source": [
    "Convertir la colonne 'is-referenced-by-count' en type entier"
   ]
  },
  {
   "cell_type": "code",
   "execution_count": 27,
   "id": "0ffba10b",
   "metadata": {},
   "outputs": [],
   "source": [
    "df['is-referenced-by-count'] = df['is-referenced-by-count'].astype(int)\n"
   ]
  },
  {
   "cell_type": "markdown",
   "id": "df218ff2",
   "metadata": {},
   "source": [
    "# Analyse des Données"
   ]
  },
  {
   "cell_type": "markdown",
   "id": "bd8bf897",
   "metadata": {},
   "source": [
    " 1. Nombre Total de Publications"
   ]
  },
  {
   "cell_type": "code",
   "execution_count": 28,
   "id": "473da92f",
   "metadata": {},
   "outputs": [
    {
     "name": "stdout",
     "output_type": "stream",
     "text": [
      "Nombre total de publications: 25\n"
     ]
    }
   ],
   "source": [
    "\n",
    "total_publications = len(df)\n",
    "print(f\"Nombre total de publications: {total_publications}\")"
   ]
  },
  {
   "cell_type": "markdown",
   "id": "97dda618",
   "metadata": {},
   "source": [
    "2. Nombre Total de Citations"
   ]
  },
  {
   "cell_type": "code",
   "execution_count": 29,
   "id": "97a917d0",
   "metadata": {},
   "outputs": [
    {
     "name": "stdout",
     "output_type": "stream",
     "text": [
      "Nombre total de citations: 5\n"
     ]
    }
   ],
   "source": [
    "total_citations = df['is-referenced-by-count'].sum()\n",
    "print(f\"Nombre total de citations: {total_citations}\")"
   ]
  },
  {
   "cell_type": "markdown",
   "id": "d18ee27c",
   "metadata": {},
   "source": [
    "3. Citations Moyennes par Publication"
   ]
  },
  {
   "cell_type": "code",
   "execution_count": 30,
   "id": "3b88b174",
   "metadata": {
    "scrolled": true
   },
   "outputs": [
    {
     "name": "stdout",
     "output_type": "stream",
     "text": [
      "Citations moyennes par publication: 0.2\n"
     ]
    }
   ],
   "source": [
    "\n",
    "average_citations = df['is-referenced-by-count'].mean()\n",
    "print(f\"Citations moyennes par publication: {average_citations}\")"
   ]
  },
  {
   "cell_type": "markdown",
   "id": "f582b71b",
   "metadata": {},
   "source": [
    " 4. Publications avec le Plus de Citations"
   ]
  },
  {
   "cell_type": "code",
   "execution_count": 31,
   "id": "1db10cf5",
   "metadata": {
    "scrolled": true
   },
   "outputs": [
    {
     "name": "stdout",
     "output_type": "stream",
     "text": [
      "Publications avec le plus de citations:\n",
      "                                                title  is-referenced-by-count\n",
      "15  Spatial differentiation of carbon emissions fr...                       2\n",
      "0   Authentication, access control and scalability...                       1\n",
      "3   Interpreting hourly mass concentrations of PM2...                       1\n",
      "1   Research progress on secondary formation, phot...                       1\n",
      "14  Machine learning-assisted fluorescence visuali...                       0\n"
     ]
    }
   ],
   "source": [
    "top_cited_publications = df.sort_values(by='is-referenced-by-count', ascending=False).head()\n",
    "print(\"Publications avec le plus de citations:\")\n",
    "print(top_cited_publications[['title', 'is-referenced-by-count']])"
   ]
  },
  {
   "cell_type": "markdown",
   "id": "44352ade",
   "metadata": {},
   "source": [
    " 5. Distribution des Citations"
   ]
  },
  {
   "cell_type": "code",
   "execution_count": 32,
   "id": "d6daa2d0",
   "metadata": {
    "scrolled": true
   },
   "outputs": [
    {
     "data": {
      "image/png": "[encoded data removed]",
      "text/plain": [
       "<Figure size 640x480 with 1 Axes>"
      ]
     },
     "metadata": {},
     "output_type": "display_data"
    }
   ],
   "source": [
    "\n",
    "plt.hist(df['is-referenced-by-count'], bins=10, edgecolor='black')\n",
    "plt.title('Distribution des citations par publication')\n",
    "plt.xlabel('Nombre de citations')\n",
    "plt.ylabel('Nombre de publications')\n",
    "plt.show()"
   ]
  },
  {
   "cell_type": "markdown",
   "id": "0197d4d2",
   "metadata": {},
   "source": [
    "Convertir la colonne 'issued.date-parts' en année"
   ]
  },
  {
   "cell_type": "code",
   "execution_count": 33,
   "id": "3ee68dd5",
   "metadata": {},
   "outputs": [],
   "source": [
    "df['year'] = df['issued.date-parts'].apply(lambda x: x[0][0] if isinstance(x, list) and len(x) > 0 and isinstance(x[0], list) else None)"
   ]
  },
  {
   "cell_type": "markdown",
   "id": "4705ea40",
   "metadata": {},
   "source": [
    " Vérifier si la colonne 'year' a été correctement créée"
   ]
  },
  {
   "cell_type": "code",
   "execution_count": 34,
   "id": "97b73ff0",
   "metadata": {
    "scrolled": true
   },
   "outputs": [
    {
     "name": "stdout",
     "output_type": "stream",
     "text": [
      "  issued.date-parts  year\n",
      "0      [[2025, 12]]  2025\n",
      "1       [[2025, 5]]  2025\n",
      "2       [[2025, 5]]  2025\n",
      "3       [[2025, 5]]  2025\n",
      "4    [[2024, 6, 4]]  2024\n"
     ]
    }
   ],
   "source": [
    "print(df[['issued.date-parts', 'year']].head())"
   ]
  },
  {
   "cell_type": "markdown",
   "id": "87e833f2",
   "metadata": {},
   "source": [
    "Compter les citations par année"
   ]
  },
  {
   "cell_type": "code",
   "execution_count": 35,
   "id": "d66274a3",
   "metadata": {},
   "outputs": [],
   "source": [
    "citations_per_year = df.groupby('year')['reference-count'].sum()"
   ]
  },
  {
   "cell_type": "markdown",
   "id": "c64f3b2b",
   "metadata": {},
   "source": [
    "Afficher le résultat"
   ]
  },
  {
   "cell_type": "code",
   "execution_count": 36,
   "id": "b6ea1c2c",
   "metadata": {},
   "outputs": [
    {
     "name": "stdout",
     "output_type": "stream",
     "text": [
      "Citations par année:\n",
      "year\n",
      "2024      89\n",
      "2025    1024\n",
      "Name: reference-count, dtype: int64\n"
     ]
    }
   ],
   "source": [
    "print(\"Citations par année:\")\n",
    "print(citations_per_year)"
   ]
  },
  {
   "cell_type": "markdown",
   "id": "e97045ae",
   "metadata": {},
   "source": [
    " Exploser la colonne 'author' pour avoir un auteur par ligne"
   ]
  },
  {
   "cell_type": "code",
   "execution_count": 37,
   "id": "74a2442c",
   "metadata": {},
   "outputs": [],
   "source": [
    "authors_exploded = df.explode('author')"
   ]
  },
  {
   "cell_type": "markdown",
   "id": "196b53e3",
   "metadata": {},
   "source": [
    " Compter les publications par auteur"
   ]
  },
  {
   "cell_type": "code",
   "execution_count": 38,
   "id": "327b77fe",
   "metadata": {
    "scrolled": true
   },
   "outputs": [
    {
     "name": "stdout",
     "output_type": "stream",
     "text": [
      "Répartition des Publications par Auteur:\n",
      "author\n",
      "{'given': 'Xin', 'family': 'Li', 'sequence': 'additional', 'affiliation': []}                                                                                2\n",
      "{'ORCID': 'http://orcid.org/0009-0006-4062-8494', 'authenticated-orcid': False, 'given': 'M', 'family': 'Kokila', 'sequence': 'first', 'affiliation': []}    1\n",
      "{'given': 'Zhiqing', 'family': 'Wen', 'sequence': 'additional', 'affiliation': []}                                                                           1\n",
      "{'given': 'Xiufang', 'family': 'Zhou', 'sequence': 'additional', 'affiliation': []}                                                                          1\n",
      "{'given': 'Xin', 'family': 'Mu', 'sequence': 'additional', 'affiliation': []}                                                                                1\n",
      "                                                                                                                                                            ..\n",
      "{'family': 'Nurhana Roslan', 'sequence': 'first', 'affiliation': []}                                                                                         1\n",
      "{'family': 'Hakan Koyuncu', 'sequence': 'additional', 'affiliation': []}                                                                                     1\n",
      "{'family': 'Warish D. Patel', 'sequence': 'additional', 'affiliation': []}                                                                                   1\n",
      "{'family': 'Nana Yaw Duodu', 'sequence': 'first', 'affiliation': []}                                                                                         1\n",
      "{'given': 'Guo', 'family': 'Feng', 'sequence': 'additional', 'affiliation': []}                                                                              1\n",
      "Name: count, Length: 117, dtype: int64\n"
     ]
    }
   ],
   "source": [
    "publications_per_author = authors_exploded['author'].value_counts()\n",
    "\n",
    "print(\"Répartition des Publications par Auteur:\")\n",
    "print(publications_per_author)"
   ]
  },
  {
   "cell_type": "markdown",
   "id": "2e29c68a",
   "metadata": {},
   "source": [
    "Calculer la corrélation entre 'reference-count' et 'year'"
   ]
  },
  {
   "cell_type": "code",
   "execution_count": 39,
   "id": "b5e17ca5",
   "metadata": {},
   "outputs": [
    {
     "name": "stdout",
     "output_type": "stream",
     "text": [
      "Corrélation entre le Nombre de Citations et les Années de Publication:\n",
      "0.6319794705221748\n"
     ]
    }
   ],
   "source": [
    "\n",
    "correlation = df[['reference-count', 'year']].corr().iloc[0, 1]\n",
    "\n",
    "print(\"Corrélation entre le Nombre de Citations et les Années de Publication:\")\n",
    "print(correlation)"
   ]
  },
  {
   "cell_type": "code",
   "execution_count": 40,
   "id": "b88255bd",
   "metadata": {},
   "outputs": [
    {
     "name": "stdout",
     "output_type": "stream",
     "text": [
      "Requirement already satisfied: rdflib in c:\\users\\lenovo\\anaconda3\\lib\\site-packages (7.0.0)\n",
      "Requirement already satisfied: SPARQLWrapper in c:\\users\\lenovo\\anaconda3\\lib\\site-packages (2.0.0)\n",
      "Requirement already satisfied: isodate<0.7.0,>=0.6.0 in c:\\users\\lenovo\\anaconda3\\lib\\site-packages (from rdflib) (0.6.1)\n",
      "Requirement already satisfied: pyparsing<4,>=2.1.0 in c:\\users\\lenovo\\anaconda3\\lib\\site-packages (from rdflib) (3.0.9)\n",
      "Requirement already satisfied: six in c:\\users\\lenovo\\anaconda3\\lib\\site-packages (from isodate<0.7.0,>=0.6.0->rdflib) (1.16.0)\n",
      "Note: you may need to restart the kernel to use updated packages.\n"
     ]
    }
   ],
   "source": [
    "pip install rdflib SPARQLWrapper\n"
   ]
  },
  {
   "cell_type": "code",
   "execution_count": 41,
   "id": "5a47c0b7",
   "metadata": {},
   "outputs": [],
   "source": [
    "from rdflib import Graph, Literal, RDF, URIRef, Namespace\n",
    "from rdflib.namespace import FOAF, DC\n",
    "from SPARQLWrapper import SPARQLWrapper, JSON"
   ]
  },
  {
   "cell_type": "code",
   "execution_count": 42,
   "id": "5ce6fd62",
   "metadata": {},
   "outputs": [],
   "source": [
    "# Créer un Graph RDF\n",
    "g = Graph()\n"
   ]
  },
  {
   "cell_type": "code",
   "execution_count": 43,
   "id": "dc52e5ac",
   "metadata": {},
   "outputs": [],
   "source": [
    "# Créer un Namespace d'exemple\n",
    "EX = Namespace(\"http://example.org/\")\n",
    "\n",
    "# Lier le namespace à un préfixe\n",
    "g.bind(\"ex\", EX)"
   ]
  },
  {
   "cell_type": "code",
   "execution_count": 47,
   "id": "2ed23152",
   "metadata": {},
   "outputs": [],
   "source": [
    "# Ajouter les informations des publications au graph RDF\n",
    "for index, row in df.iterrows():\n",
    "    pub_ref = URIRef(f\"http://example.org/publication/{row['DOI']}\")\n",
    "    g.add((pub_ref, RDF.type, EX.Publication))\n",
    "    g.add((pub_ref, DC.identifier, Literal(row['DOI'])))\n",
    "    g.add((pub_ref, DC.title, Literal(row['title'])))\n",
    "    g.add((pub_ref, DC.creator, Literal(row['author'] if 'author' in row else '')))\n",
    "    g.add((pub_ref, DC.date, Literal(row['year'])))\n",
    "    g.add((pub_ref, EX.citations, Literal(row['is-referenced-by-count'])))\n"
   ]
  },
  {
   "cell_type": "code",
   "execution_count": 58,
   "id": "da2b99bc",
   "metadata": {},
   "outputs": [
    {
     "name": "stdout",
     "output_type": "stream",
     "text": [
      "<?xml version=\"1.0\" encoding=\"utf-8\"?>\n",
      "<rdf:RDF\n",
      "   xmlns:dc=\"http://purl.org/dc/elements/1.1/\"\n",
      "   xmlns:ex=\"http://example.org/\"\n",
      "   xmlns:rdf=\"http://www.w3.org/1999/02/22-rdf-syntax-ns#\"\n",
      ">\n",
      "  <rdf:Description rdf:about=\"http://example.org/publication/10.1115/1.4063266\">\n",
      "    <rdf:type rdf:resource=\"http://example.org/Publication\"/>\n",
      "    <dc:identifier>10.1115/1.4063266</dc:identifier>\n",
      "    <dc:title>A Comparative Study of LSTM and Temporal Convolutional Network Models for Semisubmersible Platform Wave Runup Prediction</dc:title>\n",
      "    <dc:creator>[{'given': 'Yan', 'family': 'Li', 'sequence': 'first', 'affiliation': [{'name': 'Shanghai Jiao Tong University State Key Laboratory of Ocean Engineering, , No. 800, Dongchuan Road, Minhang District, Shanghai 200240 , China'}]}, {'given': 'Longfei', 'family': 'Xiao', 'sequence': 'additional', 'affiliation': [{'name': 'Shanghai Jiao Tong University State Key Laboratory of Ocean Engineering, , No. 800, Dongchuan Road, Minhang District, Shanghai 200240 , China'}]}, {'given': 'Handi', 'family': 'Wei', 'sequence': 'additional', 'affiliation': [{'name': 'Shanghai Jiao Tong University State Key Laboratory of Ocean Engineering, , No. 800, Dongchuan Road, Minhang District, Shanghai 200240 , China'}]}, {'given': 'Deyu', 'family': 'Li', 'sequence': 'additional', 'affiliation': [{'name': 'Shanghai Jiao Tong University State Key Laboratory of Ocean Engineering, , No. 800, Dongchuan Road, Minhang District, Shanghai 200240 , China'}]}, {'given': 'Xu', 'family': 'Li', 'sequence': 'additional', 'affiliation': [{'name': 'Shanghai Jiao Tong University State Key Laboratory of Ocean Engineering, , No. 800, Dongchuan Road, Minhang District, Shanghai 200240 , China'}]}]</dc:creator>\n",
      "    <dc:date rdf:datatype=\"http://www.w3.org/2001/XMLSchema#integer\">2024</dc:date>\n",
      "    <ex:citations rdf:datatype=\"http://www.w3.org/2001/XMLSchema#integer\">0</ex:citations>\n",
      "  </rdf:Description>\n",
      "  <rdf:Description rdf:about=\"http://example.org/publication/10.1016/j.jsc.2024.102345\">\n",
      "    <rdf:type rdf:resource=\"http://example.org/Publication\"/>\n",
      "    <dc:identifier>10.1016/j.jsc.2024.102345</dc:identifier>\n",
      "    <dc:title>Machine learning parameter systems, Noether normalisations and quasi-stable positions</dc:title>\n",
      "    <dc:creator>[{'given': 'Amir', 'family': 'Hashemi', 'sequence': 'first', 'affiliation': []}, {'given': 'Mahshid', 'family': 'Mirhashemi', 'sequence': 'additional', 'affiliation': []}, {'ORCID': 'http://orcid.org/0000-0002-0565-1334', 'authenticated-orcid': False, 'given': 'Werner M.', 'family': 'Seiler', 'sequence': 'additional', 'affiliation': []}]</dc:creator>\n",
      "    <dc:date rdf:datatype=\"http://www.w3.org/2001/XMLSchema#integer\">2025</dc:date>\n",
      "    <ex:citations rdf:datatype=\"http://www.w3.org/2001/XMLSchema#integer\">0</ex:citations>\n",
      "  </rdf:Description>\n",
      "  <rdf:Description rdf:about=\"http://example.org/publication/10.1016/j.jes.2024.03.051\">\n",
      "    <rdf:type rdf:resource=\"http://example.org/Publication\"/>\n",
      "    <dc:identifier>10.1016/j.jes.2024.03.051</dc:identifier>\n",
      "    <dc:title>Development of an automated photolysis rates prediction system based on machine learning</dc:title>\n",
      "    <dc:creator>[{'given': 'Weijun', 'family': 'Pan', 'sequence': 'first', 'affiliation': []}, {'ORCID': 'http://orcid.org/0000-0003-3380-0859', 'authenticated-orcid': False, 'given': 'Sunling', 'family': 'Gong', 'sequence': 'additional', 'affiliation': []}, {'given': 'Huabing', 'family': 'Ke', 'sequence': 'additional', 'affiliation': []}, {'given': 'Xin', 'family': 'Li', 'sequence': 'additional', 'affiliation': []}, {'given': 'Duohong', 'family': 'Chen', 'sequence': 'additional', 'affiliation': []}, {'given': 'Cheng', 'family': 'Huang', 'sequence': 'additional', 'affiliation': []}, {'given': 'Danlin', 'family': 'Song', 'sequence': 'additional', 'affiliation': []}]</dc:creator>\n",
      "    <dc:date rdf:datatype=\"http://www.w3.org/2001/XMLSchema#integer\">2025</dc:date>\n",
      "    <ex:citations rdf:datatype=\"http://www.w3.org/2001/XMLSchema#integer\">0</ex:citations>\n",
      "  </rdf:Description>\n",
      "  <rdf:Description rdf:about=\"http://example.org/publication/10.1016/j.entcom.2024.100725\">\n",
      "    <rdf:type rdf:resource=\"http://example.org/Publication\"/>\n",
      "    <dc:identifier>10.1016/j.entcom.2024.100725</dc:identifier>\n",
      "    <dc:title>Entertainment analysis in gaming model for business management with decision making and Machine learning model</dc:title>\n",
      "    <dc:creator>[{'given': 'M.', 'family': 'Karthiga', 'sequence': 'first', 'affiliation': []}, {'given': 'S.P.', 'family': 'Abirami', 'sequence': 'additional', 'affiliation': []}, {'given': 'B.', 'family': 'Arunkumar', 'sequence': 'additional', 'affiliation': []}, {'given': 'M.', 'family': 'Vanitha Sheba', 'sequence': 'additional', 'affiliation': []}]</dc:creator>\n",
      "    <dc:date rdf:datatype=\"http://www.w3.org/2001/XMLSchema#integer\">2025</dc:date>\n",
      "    <ex:citations rdf:datatype=\"http://www.w3.org/2001/XMLSchema#integer\">0</ex:citations>\n",
      "  </rdf:Description>\n",
      "  <rdf:Description rdf:about=\"http://example.org/publication/10.37934/araset.44.1.225238\">\n",
      "    <rdf:type rdf:resource=\"http://example.org/Publication\"/>\n",
      "    <dc:identifier>10.37934/araset.44.1.225238</dc:identifier>\n",
      "    <dc:title>An Improved Network Intrusion Detection Method Based On CNN-LSTM-SA</dc:title>\n",
      "    <dc:creator>[{'family': 'Kang Leng Chiew', 'sequence': 'first', 'affiliation': []}, {'family': 'Bian Hui', 'sequence': 'additional', 'affiliation': []}]</dc:creator>\n",
      "    <dc:date rdf:datatype=\"http://www.w3.org/2001/XMLSchema#integer\">2024</dc:date>\n",
      "    <ex:citations rdf:datatype=\"http://www.w3.org/2001/XMLSchema#integer\">0</ex:citations>\n",
      "  </rdf:Description>\n",
      "  <rdf:Description rdf:about=\"http://example.org/publication/10.1016/j.jmst.2024.02.094\">\n",
      "    <rdf:type rdf:resource=\"http://example.org/Publication\"/>\n",
      "    <dc:identifier>10.1016/j.jmst.2024.02.094</dc:identifier>\n",
      "    <dc:title>Recent advance in coating strategies for lithium-rich manganese-based cathode materials</dc:title>\n",
      "    <dc:creator>[{'ORCID': 'http://orcid.org/0000-0001-5023-5578', 'authenticated-orcid': False, 'given': 'Qianchen', 'family': 'Wang', 'sequence': 'first', 'affiliation': []}, {'given': 'Lei', 'family': 'Liu', 'sequence': 'additional', 'affiliation': []}, {'given': 'Hudong', 'family': 'Li', 'sequence': 'additional', 'affiliation': []}, {'ORCID': 'http://orcid.org/0000-0002-9275-316X', 'authenticated-orcid': False, 'given': 'Gaojing', 'family': 'Yang', 'sequence': 'additional', 'affiliation': []}, {'given': 'Abdullah N.', 'family': 'Alodhayb', 'sequence': 'additional', 'affiliation': []}, {'ORCID': 'http://orcid.org/0000-0003-2081-2877', 'authenticated-orcid': False, 'given': 'Jianmin', 'family': 'Ma', 'sequence': 'additional', 'affiliation': []}]</dc:creator>\n",
      "    <dc:date rdf:datatype=\"http://www.w3.org/2001/XMLSchema#integer\">2025</dc:date>\n",
      "    <ex:citations rdf:datatype=\"http://www.w3.org/2001/XMLSchema#integer\">0</ex:citations>\n",
      "  </rdf:Description>\n",
      "  <rdf:Description rdf:about=\"http://example.org/publication/10.37934/araset.44.2.1124\">\n",
      "    <rdf:type rdf:resource=\"http://example.org/Publication\"/>\n",
      "    <dc:identifier>10.37934/araset.44.2.1124</dc:identifier>\n",
      "    <dc:title>Development of an Educational Kit Using CAD Software for Simple Machine Learning</dc:title>\n",
      "    <dc:creator>[{'family': 'Norliana Yusof', 'sequence': 'first', 'affiliation': []}, {'family': 'Wan Nur Atikah Wan Mohd Pauzi', 'sequence': 'additional', 'affiliation': []}, {'family': 'Nor Ziratul Aqma Norzaman', 'sequence': 'additional', 'affiliation': []}, {'family': 'Ireana Yusra Abdul Fatah', 'sequence': 'additional', 'affiliation': []}, {'family': 'Siti Maryam Sharun', 'sequence': 'additional', 'affiliation': []}, {'family': 'Mohd Shahir Kasim', 'sequence': 'additional', 'affiliation': []}, {'family': 'Sharih Ahmad Mohmad', 'sequence': 'additional', 'affiliation': []}, {'family': 'Teruaki Ito', 'sequence': 'additional', 'affiliation': []}]</dc:creator>\n",
      "    <dc:date rdf:datatype=\"http://www.w3.org/2001/XMLSchema#integer\">2024</dc:date>\n",
      "    <ex:citations rdf:datatype=\"http://www.w3.org/2001/XMLSchema#integer\">0</ex:citations>\n",
      "  </rdf:Description>\n",
      "  <rdf:Description rdf:about=\"http://example.org/publication/10.37934/araset.45.1.5159\">\n",
      "    <rdf:type rdf:resource=\"http://example.org/Publication\"/>\n",
      "    <dc:identifier>10.37934/araset.45.1.5159</dc:identifier>\n",
      "    <dc:title>Predictive Modelling on Competitor Analysis Performance by using Generalised Linear Models and Machine Learning Approach</dc:title>\n",
      "    <dc:creator>[{'family': 'Noryanti Muhammad', 'sequence': 'first', 'affiliation': []}, {'family': 'Mohamad Nadzman Mohd Amin', 'sequence': 'additional', 'affiliation': []}, {'family': 'Rose Adzreen Adnan', 'sequence': 'additional', 'affiliation': []}]</dc:creator>\n",
      "    <dc:date rdf:datatype=\"http://www.w3.org/2001/XMLSchema#integer\">2024</dc:date>\n",
      "    <ex:citations rdf:datatype=\"http://www.w3.org/2001/XMLSchema#integer\">0</ex:citations>\n",
      "  </rdf:Description>\n",
      "  <rdf:Description rdf:about=\"http://example.org/publication/10.37934/araset.45.1.4050\">\n",
      "    <rdf:type rdf:resource=\"http://example.org/Publication\"/>\n",
      "    <dc:identifier>10.37934/araset.45.1.4050</dc:identifier>\n",
      "    <dc:title>Comparative Analysis of Machine Learning Algorithms for Diabetic Disease Identification</dc:title>\n",
      "    <dc:creator>[{'family': 'Dhasaradhan Kaveripakam', 'sequence': 'first', 'affiliation': []}, {'family': 'Jaichandran Ravichandran', 'sequence': 'additional', 'affiliation': []}]</dc:creator>\n",
      "    <dc:date rdf:datatype=\"http://www.w3.org/2001/XMLSchema#integer\">2024</dc:date>\n",
      "    <ex:citations rdf:datatype=\"http://www.w3.org/2001/XMLSchema#integer\">0</ex:citations>\n",
      "  </rdf:Description>\n",
      "  <rdf:Description rdf:about=\"http://example.org/publication/10.1016/j.seppur.2024.128466\">\n",
      "    <rdf:type rdf:resource=\"http://example.org/Publication\"/>\n",
      "    <dc:identifier>10.1016/j.seppur.2024.128466</dc:identifier>\n",
      "    <dc:title>Adsorbent shaping as enabler for intensified pressure swing adsorption (PSA): A critical review</dc:title>\n",
      "    <dc:creator>[{'given': 'Dora-Andreea', 'family': 'Chisăliță', 'sequence': 'first', 'affiliation': []}, {'ORCID': 'http://orcid.org/0000-0002-1487-1531', 'authenticated-orcid': False, 'given': 'Jurriaan', 'family': 'Boon', 'sequence': 'additional', 'affiliation': []}, {'ORCID': 'http://orcid.org/0000-0002-9515-6467', 'authenticated-orcid': False, 'given': 'Leonie', 'family': 'Lücking', 'sequence': 'additional', 'affiliation': []}]</dc:creator>\n",
      "    <dc:date rdf:datatype=\"http://www.w3.org/2001/XMLSchema#integer\">2025</dc:date>\n",
      "    <ex:citations rdf:datatype=\"http://www.w3.org/2001/XMLSchema#integer\">0</ex:citations>\n",
      "  </rdf:Description>\n",
      "  <rdf:Description rdf:about=\"http://example.org/publication/10.1016/j.entcom.2024.100787\">\n",
      "    <rdf:type rdf:resource=\"http://example.org/Publication\"/>\n",
      "    <dc:identifier>10.1016/j.entcom.2024.100787</dc:identifier>\n",
      "    <dc:title>Entertainment robots based on smartphone terminals for mobile network music E-learning mode</dc:title>\n",
      "    <dc:creator>[{'given': 'Yin', 'family': 'Jie', 'sequence': 'first', 'affiliation': []}]</dc:creator>\n",
      "    <dc:date rdf:datatype=\"http://www.w3.org/2001/XMLSchema#integer\">2025</dc:date>\n",
      "    <ex:citations rdf:datatype=\"http://www.w3.org/2001/XMLSchema#integer\">0</ex:citations>\n",
      "  </rdf:Description>\n",
      "  <rdf:Description rdf:about=\"http://example.org/publication/10.37934/araset.46.1.187200\">\n",
      "    <rdf:type rdf:resource=\"http://example.org/Publication\"/>\n",
      "    <dc:identifier>10.37934/araset.46.1.187200</dc:identifier>\n",
      "    <dc:title>Arabic Music Genre Identification</dc:title>\n",
      "    <dc:creator>[{'family': 'Moataz Ahmed', 'sequence': 'first', 'affiliation': []}, {'family': 'Sherif Fadel', 'sequence': 'additional', 'affiliation': []}, {'family': 'Manal Helal', 'sequence': 'additional', 'affiliation': []}, {'family': 'Abdel Moneim Wahdan', 'sequence': 'additional', 'affiliation': []}]</dc:creator>\n",
      "    <dc:date rdf:datatype=\"http://www.w3.org/2001/XMLSchema#integer\">2024</dc:date>\n",
      "    <ex:citations rdf:datatype=\"http://www.w3.org/2001/XMLSchema#integer\">0</ex:citations>\n",
      "  </rdf:Description>\n",
      "  <rdf:Description rdf:about=\"http://example.org/publication/10.37934/araset.45.1.90107\">\n",
      "    <rdf:type rdf:resource=\"http://example.org/Publication\"/>\n",
      "    <dc:identifier>10.37934/araset.45.1.90107</dc:identifier>\n",
      "    <dc:title>Block-scale Oil Palm Yield Prediction Using Machine Learning Approaches Based on Landsat and MODIS Satellite Data</dc:title>\n",
      "    <dc:creator>[{'family': 'Yuhao Ang', 'sequence': 'first', 'affiliation': []}, {'family': 'Helmi Zulhaidi Mohd Shafri', 'sequence': 'additional', 'affiliation': []}, {'family': 'Yang Ping Lee', 'sequence': 'additional', 'affiliation': []}, {'family': 'Shahrul Azman Bakar', 'sequence': 'additional', 'affiliation': []}, {'family': 'Haryati Abidin', 'sequence': 'additional', 'affiliation': []}, {'family': 'Shaiful Jahari Hashim', 'sequence': 'additional', 'affiliation': []}, {'family': 'Mohd Na’aim Samad', 'sequence': 'additional', 'affiliation': []}, {'family': 'Nik Norasma Che’ya', 'sequence': 'additional', 'affiliation': []}, {'family': 'Mohd Roshdi Hassan', 'sequence': 'additional', 'affiliation': []}, {'family': 'Hwee San Lim', 'sequence': 'additional', 'affiliation': []}, {'family': 'Rosni Abdullah', 'sequence': 'additional', 'affiliation': []}, {'family': 'Yusri Yusup', 'sequence': 'additional', 'affiliation': []}, {'family': 'Syahidah Akmal Muhammad', 'sequence': 'additional', 'affiliation': []}, {'family': 'Teh Sin Yin', 'sequence': 'additional', 'affiliation': []}, {'family': 'Mohamed Barakat A. Gibril', 'sequence': 'additional', 'affiliation': []}]</dc:creator>\n",
      "    <dc:date rdf:datatype=\"http://www.w3.org/2001/XMLSchema#integer\">2024</dc:date>\n",
      "    <ex:citations rdf:datatype=\"http://www.w3.org/2001/XMLSchema#integer\">0</ex:citations>\n",
      "  </rdf:Description>\n",
      "  <rdf:Description rdf:about=\"http://example.org/publication/10.1016/j.jes.2024.01.023\">\n",
      "    <rdf:type rdf:resource=\"http://example.org/Publication\"/>\n",
      "    <dc:identifier>10.1016/j.jes.2024.01.023</dc:identifier>\n",
      "    <dc:title>Machine learning-assisted fluorescence visualization for sequential quantitative detection of aluminum and fluoride ions</dc:title>\n",
      "    <dc:creator>[{'given': 'Qiang', 'family': 'Zhang', 'sequence': 'first', 'affiliation': []}, {'given': 'Xin', 'family': 'Li', 'sequence': 'additional', 'affiliation': []}, {'given': 'Long', 'family': 'Yu', 'sequence': 'additional', 'affiliation': []}, {'ORCID': 'http://orcid.org/0000-0001-7790-564X', 'authenticated-orcid': False, 'given': 'Lingxiao', 'family': 'Wang', 'sequence': 'additional', 'affiliation': []}, {'given': 'Zhiqing', 'family': 'Wen', 'sequence': 'additional', 'affiliation': []}, {'given': 'Pengchen', 'family': 'Su', 'sequence': 'additional', 'affiliation': []}, {'given': 'Zhenli', 'family': 'Sun', 'sequence': 'additional', 'affiliation': []}, {'given': 'Suhua', 'family': 'Wang', 'sequence': 'additional', 'affiliation': []}]</dc:creator>\n",
      "    <dc:date rdf:datatype=\"http://www.w3.org/2001/XMLSchema#integer\">2025</dc:date>\n",
      "    <ex:citations rdf:datatype=\"http://www.w3.org/2001/XMLSchema#integer\">0</ex:citations>\n",
      "  </rdf:Description>\n",
      "  <rdf:Description rdf:about=\"http://example.org/publication/10.1016/j.entcom.2024.100784\">\n",
      "    <rdf:type rdf:resource=\"http://example.org/Publication\"/>\n",
      "    <dc:identifier>10.1016/j.entcom.2024.100784</dc:identifier>\n",
      "    <dc:title>Application of social entertainment robots based on machine learning algorithms and the Internet of Things in collaborative art performances</dc:title>\n",
      "    <dc:creator>[{'given': 'Zhao', 'family': 'Zhenhua', 'sequence': 'first', 'affiliation': []}, {'given': 'Guo', 'family': 'Feng', 'sequence': 'additional', 'affiliation': []}]</dc:creator>\n",
      "    <dc:date rdf:datatype=\"http://www.w3.org/2001/XMLSchema#integer\">2025</dc:date>\n",
      "    <ex:citations rdf:datatype=\"http://www.w3.org/2001/XMLSchema#integer\">0</ex:citations>\n",
      "  </rdf:Description>\n",
      "  <rdf:Description rdf:about=\"http://example.org/publication/10.37934/araset.45.2.214226\">\n",
      "    <rdf:type rdf:resource=\"http://example.org/Publication\"/>\n",
      "    <dc:identifier>10.37934/araset.45.2.214226</dc:identifier>\n",
      "    <dc:title>Advancements in Telehealth: Enhancing Breast Cancer Detection and Health Automation through Smart Integration of IoT and CNN Deep Learning in Residential and Healthcare Settings</dc:title>\n",
      "    <dc:creator>[{'family': 'Nana Yaw Duodu', 'sequence': 'first', 'affiliation': []}, {'family': 'Warish D. Patel', 'sequence': 'additional', 'affiliation': []}, {'family': 'Hakan Koyuncu', 'sequence': 'additional', 'affiliation': []}]</dc:creator>\n",
      "    <dc:date rdf:datatype=\"http://www.w3.org/2001/XMLSchema#integer\">2024</dc:date>\n",
      "    <ex:citations rdf:datatype=\"http://www.w3.org/2001/XMLSchema#integer\">0</ex:citations>\n",
      "  </rdf:Description>\n",
      "  <rdf:Description rdf:about=\"http://example.org/publication/10.37934/araset.45.2.168176\">\n",
      "    <rdf:type rdf:resource=\"http://example.org/Publication\"/>\n",
      "    <dc:identifier>10.37934/araset.45.2.168176</dc:identifier>\n",
      "    <dc:title>Prediction of Student Dropout in Malaysian’s Private Higher Education Institute using Data Mining Application</dc:title>\n",
      "    <dc:creator>[{'family': 'Nurhana Roslan', 'sequence': 'first', 'affiliation': []}, {'family': 'Jastini Mohd Jamil', 'sequence': 'additional', 'affiliation': []}, {'family': 'Izwan Nizal Mohd Shaharanee', 'sequence': 'additional', 'affiliation': []}, {'family': 'Sultan Juma Sultan Alawi', 'sequence': 'additional', 'affiliation': []}]</dc:creator>\n",
      "    <dc:date rdf:datatype=\"http://www.w3.org/2001/XMLSchema#integer\">2024</dc:date>\n",
      "    <ex:citations rdf:datatype=\"http://www.w3.org/2001/XMLSchema#integer\">0</ex:citations>\n",
      "  </rdf:Description>\n",
      "  <rdf:Description rdf:about=\"http://example.org/publication/10.37934/araset.46.1.7585\">\n",
      "    <rdf:type rdf:resource=\"http://example.org/Publication\"/>\n",
      "    <dc:identifier>10.37934/araset.46.1.7585</dc:identifier>\n",
      "    <dc:title>Classification of Breast Cancer Subtypes using Microarray RNA Expression Data</dc:title>\n",
      "    <dc:creator>[{'family': 'Muhammad Shazwan Suhiman', 'sequence': 'first', 'affiliation': []}, {'family': 'Sayang Mohd Deni', 'sequence': 'additional', 'affiliation': []}, {'family': 'Ahmad Zia Ul-Saufie Mohamad Japeri', 'sequence': 'additional', 'affiliation': []}, {'family': 'Aszila Asmat', 'sequence': 'additional', 'affiliation': []}, {'family': 'Lirong Wang', 'sequence': 'additional', 'affiliation': []}]</dc:creator>\n",
      "    <dc:date rdf:datatype=\"http://www.w3.org/2001/XMLSchema#integer\">2024</dc:date>\n",
      "    <ex:citations rdf:datatype=\"http://www.w3.org/2001/XMLSchema#integer\">0</ex:citations>\n",
      "  </rdf:Description>\n",
      "  <rdf:Description rdf:about=\"http://example.org/publication/10.1016/j.csa.2024.100057\">\n",
      "    <rdf:type rdf:resource=\"http://example.org/Publication\"/>\n",
      "    <dc:identifier>10.1016/j.csa.2024.100057</dc:identifier>\n",
      "    <dc:title>Authentication, access control and scalability models in Internet of Things Security–A review</dc:title>\n",
      "    <dc:creator>[{'ORCID': 'http://orcid.org/0009-0006-4062-8494', 'authenticated-orcid': False, 'given': 'M', 'family': 'Kokila', 'sequence': 'first', 'affiliation': []}, {'given': 'Srinivasa', 'family': 'Reddy K', 'sequence': 'additional', 'affiliation': []}]</dc:creator>\n",
      "    <dc:date rdf:datatype=\"http://www.w3.org/2001/XMLSchema#integer\">2025</dc:date>\n",
      "    <ex:citations rdf:datatype=\"http://www.w3.org/2001/XMLSchema#integer\">1</ex:citations>\n",
      "  </rdf:Description>\n",
      "  <rdf:Description rdf:about=\"http://example.org/publication/10.1016/j.jes.2023.08.007\">\n",
      "    <rdf:type rdf:resource=\"http://example.org/Publication\"/>\n",
      "    <dc:identifier>10.1016/j.jes.2023.08.007</dc:identifier>\n",
      "    <dc:title>Spatial differentiation of carbon emissions from energy consumption based on machine learning algorithm: A case study during 2015–2020 in Shaanxi, China</dc:title>\n",
      "    <dc:creator>[{'given': 'Hongye', 'family': 'Cao', 'sequence': 'first', 'affiliation': []}, {'given': 'Ling', 'family': 'Han', 'sequence': 'additional', 'affiliation': []}, {'ORCID': 'http://orcid.org/0000-0001-5138-9640', 'authenticated-orcid': False, 'given': 'Ming', 'family': 'Liu', 'sequence': 'additional', 'affiliation': []}, {'given': 'Liangzhi', 'family': 'Li', 'sequence': 'additional', 'affiliation': []}]</dc:creator>\n",
      "    <dc:date rdf:datatype=\"http://www.w3.org/2001/XMLSchema#integer\">2025</dc:date>\n",
      "    <ex:citations rdf:datatype=\"http://www.w3.org/2001/XMLSchema#integer\">2</ex:citations>\n",
      "  </rdf:Description>\n",
      "  <rdf:Description rdf:about=\"http://example.org/publication/10.1115/1.4065077\">\n",
      "    <rdf:type rdf:resource=\"http://example.org/Publication\"/>\n",
      "    <dc:identifier>10.1115/1.4065077</dc:identifier>\n",
      "    <dc:title>Correlation Study on Voiding in Underfill of Large Quantity Ball Grid Array Chip Using Machine Learning</dc:title>\n",
      "    <dc:creator>[{'given': 'Calvin', 'family': 'Ling', 'sequence': 'first', 'affiliation': [{'name': 'School of Mechanical Engineering, Universiti Sains Malaysia, Engineering Campus , Nibong Tebal, Penang 14300, Malaysia'}]}, {'given': 'Muhammad Taufik', 'family': 'Azahari', 'sequence': 'additional', 'affiliation': [{'name': 'School of Mechanical Engineering, Universiti Sains Malaysia, Engineering Campus , Nibong Tebal, Penang 14300, Malaysia'}]}, {'given': 'Mohamad Aizat', 'family': 'Abas', 'sequence': 'additional', 'affiliation': [{'name': 'School of Mechanical Engineering, Universiti Sains Malaysia, Engineering Campus , Nibong Tebal, Penang 14300, Malaysia'}]}, {'given': 'Fei Chong', 'family': 'Ng', 'sequence': 'additional', 'affiliation': [{'name': 'School of Mechanical Engineering, Universiti Sains Malaysia, Engineering Campus , Nibong Tebal, Penang 14300, Malaysia'}]}]</dc:creator>\n",
      "    <dc:date rdf:datatype=\"http://www.w3.org/2001/XMLSchema#integer\">2024</dc:date>\n",
      "    <ex:citations rdf:datatype=\"http://www.w3.org/2001/XMLSchema#integer\">0</ex:citations>\n",
      "  </rdf:Description>\n",
      "  <rdf:Description rdf:about=\"http://example.org/publication/10.1115/1.4065095\">\n",
      "    <rdf:type rdf:resource=\"http://example.org/Publication\"/>\n",
      "    <dc:identifier>10.1115/1.4065095</dc:identifier>\n",
      "    <dc:title>Lithium-Ion Battery Capacity Prediction Method Based on Improved Extreme Learning Machine</dc:title>\n",
      "    <dc:creator>[{'given': 'Zhengyu', 'family': 'Liu', 'sequence': 'first', 'affiliation': [{'name': 'Hefei University of Technology Department of Mechanical Engineering, , Hefei 230009 , China'}]}, {'given': 'Zaijun', 'family': 'Huang', 'sequence': 'additional', 'affiliation': [{'id': [{'id': 'https://ror.org/02czkny70', 'id-type': 'ROR', 'asserted-by': 'publisher'}], 'name': 'Hefei University of Technology Department of Mechanical Engineering, , Hefei 230009 , China'}, {'name': 'Hefei University of Technology Department of Mechanical Engineering, , Hefei 230009 , China'}]}, {'given': 'Liandong', 'family': 'Tang', 'sequence': 'additional', 'affiliation': [{'id': [{'id': 'https://ror.org/02czkny70', 'id-type': 'ROR', 'asserted-by': 'publisher'}], 'name': 'Hefei University of Technology Department of Mechanical Engineering, , Hefei 230009 , China'}, {'name': 'Hefei University of Technology Department of Mechanical Engineering, , Hefei 230009 , China'}]}, {'given': 'Hao', 'family': 'Wang', 'sequence': 'additional', 'affiliation': [{'id': [{'id': 'https://ror.org/02czkny70', 'id-type': 'ROR', 'asserted-by': 'publisher'}], 'name': 'Hefei University of Technology Department of Mechanical Engineering, , Hefei 230009 , China'}, {'name': 'Hefei University of Technology Department of Mechanical Engineering, , Hefei 230009 , China'}]}]</dc:creator>\n",
      "    <dc:date rdf:datatype=\"http://www.w3.org/2001/XMLSchema#integer\">2024</dc:date>\n",
      "    <ex:citations rdf:datatype=\"http://www.w3.org/2001/XMLSchema#integer\">0</ex:citations>\n",
      "  </rdf:Description>\n",
      "  <rdf:Description rdf:about=\"http://example.org/publication/10.1016/j.jes.2024.03.037\">\n",
      "    <rdf:type rdf:resource=\"http://example.org/Publication\"/>\n",
      "    <dc:identifier>10.1016/j.jes.2024.03.037</dc:identifier>\n",
      "    <dc:title>Interpreting hourly mass concentrations of PM2.5 chemical components with an optimal deep-learning model</dc:title>\n",
      "    <dc:creator>[{'ORCID': 'http://orcid.org/0000-0001-8065-1492', 'authenticated-orcid': False, 'given': 'Hongyi', 'family': 'Li', 'sequence': 'first', 'affiliation': []}, {'ORCID': 'http://orcid.org/0000-0001-5605-0654', 'authenticated-orcid': False, 'given': 'Ting', 'family': 'Yang', 'sequence': 'additional', 'affiliation': []}, {'given': 'Yiming', 'family': 'Du', 'sequence': 'additional', 'affiliation': []}, {'given': 'Yining', 'family': 'Tan', 'sequence': 'additional', 'affiliation': []}, {'given': 'Zifa', 'family': 'Wang', 'sequence': 'additional', 'affiliation': []}]</dc:creator>\n",
      "    <dc:date rdf:datatype=\"http://www.w3.org/2001/XMLSchema#integer\">2025</dc:date>\n",
      "    <ex:citations rdf:datatype=\"http://www.w3.org/2001/XMLSchema#integer\">1</ex:citations>\n",
      "  </rdf:Description>\n",
      "  <rdf:Description rdf:about=\"http://example.org/publication/10.1016/j.jes.2024.04.003\">\n",
      "    <rdf:type rdf:resource=\"http://example.org/Publication\"/>\n",
      "    <dc:identifier>10.1016/j.jes.2024.04.003</dc:identifier>\n",
      "    <dc:title>Research progress on secondary formation, photosensitive reaction mechanism and human health effects of chromophoric brown carbon</dc:title>\n",
      "    <dc:creator>[{'given': 'Baihang', 'family': 'Chen', 'sequence': 'first', 'affiliation': []}, {'given': 'Jiangyao', 'family': 'Chen', 'sequence': 'additional', 'affiliation': []}, {'given': 'Guiying', 'family': 'Li', 'sequence': 'additional', 'affiliation': []}, {'ORCID': 'http://orcid.org/0000-0001-6918-8070', 'authenticated-orcid': False, 'given': 'Taicheng', 'family': 'An', 'sequence': 'additional', 'affiliation': []}]</dc:creator>\n",
      "    <dc:date rdf:datatype=\"http://www.w3.org/2001/XMLSchema#integer\">2025</dc:date>\n",
      "    <ex:citations rdf:datatype=\"http://www.w3.org/2001/XMLSchema#integer\">1</ex:citations>\n",
      "  </rdf:Description>\n",
      "  <rdf:Description rdf:about=\"http://example.org/publication/10.1016/j.jmst.2024.05.024\">\n",
      "    <rdf:type rdf:resource=\"http://example.org/Publication\"/>\n",
      "    <dc:identifier>10.1016/j.jmst.2024.05.024</dc:identifier>\n",
      "    <dc:title>An intelligent matching method for the equivalent circuit of electrochemical impedance spectroscopy based on Random Forest</dc:title>\n",
      "    <dc:creator>[{'given': 'Wenbo', 'family': 'Chen', 'sequence': 'first', 'affiliation': []}, {'given': 'Bingjun', 'family': 'Yan', 'sequence': 'additional', 'affiliation': []}, {'ORCID': 'http://orcid.org/0000-0003-0294-231X', 'authenticated-orcid': False, 'given': 'Aidong', 'family': 'Xu', 'sequence': 'additional', 'affiliation': []}, {'given': 'Xin', 'family': 'Mu', 'sequence': 'additional', 'affiliation': []}, {'given': 'Xiufang', 'family': 'Zhou', 'sequence': 'additional', 'affiliation': []}, {'given': 'Maowei', 'family': 'Jiang', 'sequence': 'additional', 'affiliation': []}, {'given': 'Changgang', 'family': 'Wang', 'sequence': 'additional', 'affiliation': []}, {'ORCID': 'http://orcid.org/0000-0001-5084-0276', 'authenticated-orcid': False, 'given': 'Rui', 'family': 'Li', 'sequence': 'additional', 'affiliation': []}, {'ORCID': 'http://orcid.org/0009-0004-6020-1004', 'authenticated-orcid': False, 'given': 'Jie', 'family': 'Huang', 'sequence': 'additional', 'affiliation': []}, {'given': 'Junhua', 'family': 'Dong', 'sequence': 'additional', 'affiliation': []}]</dc:creator>\n",
      "    <dc:date rdf:datatype=\"http://www.w3.org/2001/XMLSchema#integer\">2025</dc:date>\n",
      "    <ex:citations rdf:datatype=\"http://www.w3.org/2001/XMLSchema#integer\">0</ex:citations>\n",
      "  </rdf:Description>\n",
      "</rdf:RDF>\n",
      "\n"
     ]
    }
   ],
   "source": [
    "print(g.serialize(format='xml'))\n"
   ]
  },
  {
   "cell_type": "code",
   "execution_count": 59,
   "id": "0791120e",
   "metadata": {},
   "outputs": [
    {
     "data": {
      "text/plain": [
       "<Graph identifier=Ndf4a655c8763440996edae247e59e592 (<class 'rdflib.graph.Graph'>)>"
      ]
     },
     "execution_count": 59,
     "metadata": {},
     "output_type": "execute_result"
    }
   ],
   "source": [
    "\n",
    "# Sauvegarder le graph RDF dans un fichier\n",
    "g.serialize(destination='publications.rdf', format='xml')"
   ]
  },
  {
   "cell_type": "code",
   "execution_count": 60,
   "id": "93317d60",
   "metadata": {},
   "outputs": [
    {
     "data": {
      "text/plain": [
       "<Graph identifier=Nca5263d58900476bbc8ea3dca404aaa9 (<class 'rdflib.graph.Graph'>)>"
      ]
     },
     "execution_count": 60,
     "metadata": {},
     "output_type": "execute_result"
    }
   ],
   "source": [
    "# Charger les données RDF depuis le fichier\n",
    "g = Graph()\n",
    "g.parse(\"publications.rdf\")"
   ]
  },
  {
   "cell_type": "code",
   "execution_count": 75,
   "id": "e906351f",
   "metadata": {},
   "outputs": [],
   "source": [
    "\n",
    "\n",
    "# Définir le point de terminaison SPARQL (pour un fichier local, nous allons interroger directement dans le graph)\n",
    "query = \"\"\"\n",
    "PREFIX ex: <http://example.org/>\n",
    "PREFIX dc: <http://purl.org/dc/elements/1.1/>\n",
    "\n",
    "SELECT ?DOI ?title ?author ?year ?citations\n",
    "WHERE {\n",
    "    ?pub ex:citations ?citations .\n",
    "    ?pub dc:identifier ?DOI .\n",
    "    ?pub dc:title ?title .\n",
    "    ?pub dc:creator ?author .\n",
    "    ?pub dc:date 2025 .\n",
    "   \n",
    "}\n",
    "\"\"\"\n",
    "\n"
   ]
  },
  {
   "cell_type": "code",
   "execution_count": 76,
   "id": "4023c099",
   "metadata": {},
   "outputs": [
    {
     "data": {
      "text/plain": [
       "<rdflib.plugins.sparql.processor.SPARQLResult at 0x2ce53c9a850>"
      ]
     },
     "execution_count": 76,
     "metadata": {},
     "output_type": "execute_result"
    }
   ],
   "source": [
    "# Exécuter la requête directement sur le graph\n",
    "results = g.query(query)\n",
    "results\n"
   ]
  },
  {
   "cell_type": "code",
   "execution_count": 80,
   "id": "d770a040",
   "metadata": {},
   "outputs": [
    {
     "name": "stdout",
     "output_type": "stream",
     "text": [
      "DOI: 10.1016/j.jsc.2024.102345, Titre: Machine learning parameter systems, Noether normalisations and quasi-stable positions, Année: None, Citations: 0\n",
      "DOI: 10.1016/j.jes.2024.03.051, Titre: Development of an automated photolysis rates prediction system based on machine learning, Année: None, Citations: 0\n",
      "DOI: 10.1016/j.entcom.2024.100725, Titre: Entertainment analysis in gaming model for business management with decision making and Machine learning model, Année: None, Citations: 0\n",
      "DOI: 10.1016/j.jmst.2024.02.094, Titre: Recent advance in coating strategies for lithium-rich manganese-based cathode materials, Année: None, Citations: 0\n",
      "DOI: 10.1016/j.seppur.2024.128466, Titre: Adsorbent shaping as enabler for intensified pressure swing adsorption (PSA): A critical review, Année: None, Citations: 0\n",
      "DOI: 10.1016/j.entcom.2024.100787, Titre: Entertainment robots based on smartphone terminals for mobile network music E-learning mode, Année: None, Citations: 0\n",
      "DOI: 10.1016/j.jes.2024.01.023, Titre: Machine learning-assisted fluorescence visualization for sequential quantitative detection of aluminum and fluoride ions, Année: None, Citations: 0\n",
      "DOI: 10.1016/j.entcom.2024.100784, Titre: Application of social entertainment robots based on machine learning algorithms and the Internet of Things in collaborative art performances, Année: None, Citations: 0\n",
      "DOI: 10.1016/j.csa.2024.100057, Titre: Authentication, access control and scalability models in Internet of Things Security–A review, Année: None, Citations: 1\n",
      "DOI: 10.1016/j.jes.2023.08.007, Titre: Spatial differentiation of carbon emissions from energy consumption based on machine learning algorithm: A case study during 2015–2020 in Shaanxi, China, Année: None, Citations: 2\n",
      "DOI: 10.1016/j.jes.2024.03.037, Titre: Interpreting hourly mass concentrations of PM2.5 chemical components with an optimal deep-learning model, Année: None, Citations: 1\n",
      "DOI: 10.1016/j.jes.2024.04.003, Titre: Research progress on secondary formation, photosensitive reaction mechanism and human health effects of chromophoric brown carbon, Année: None, Citations: 1\n",
      "DOI: 10.1016/j.jmst.2024.05.024, Titre: An intelligent matching method for the equivalent circuit of electrochemical impedance spectroscopy based on Random Forest, Année: None, Citations: 0\n"
     ]
    }
   ],
   "source": [
    "# Imprimer les résultats\n",
    "for row in results:\n",
    "    print(f\"DOI: {row.DOI}, Titre: {row.title}, Année: {row.year}, Citations: {row.citations}\")\n"
   ]
  },
  {
   "cell_type": "code",
   "execution_count": null,
   "id": "1c6ceb66",
   "metadata": {},
   "outputs": [],
   "source": []
  },
  {
   "cell_type": "code",
   "execution_count": null,
   "id": "47c63d24",
   "metadata": {},
   "outputs": [],
   "source": []
  }
 ],
 "metadata": {
  "kernelspec": {
   "display_name": "Python 3 (ipykernel)",
   "language": "python",
   "name": "python3"
  },
  "language_info": {
   "codemirror_mode": {
    "name": "ipython",
    "version": 3
   },
   "file_extension": ".py",
   "mimetype": "text/x-python",
   "name": "python",
   "nbconvert_exporter": "python",
   "pygments_lexer": "ipython3",
   "version": "3.11.5"
  }
 },
 "nbformat": 4,
 "nbformat_minor": 5
}
